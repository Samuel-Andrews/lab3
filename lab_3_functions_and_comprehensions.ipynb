{
  "nbformat": 4,
  "nbformat_minor": 0,
  "metadata": {
    "anaconda-cloud": {},
    "kernelspec": {
      "display_name": "Python 3",
      "language": "python",
      "name": "python3"
    },
    "language_info": {
      "codemirror_mode": {
        "name": "ipython",
        "version": 3
      },
      "file_extension": ".py",
      "mimetype": "text/x-python",
      "name": "python",
      "nbconvert_exporter": "python",
      "pygments_lexer": "ipython3",
      "version": "3.7.2"
    },
    "colab": {
      "name": "lab_3_functions_and_comprehensions.ipynb",
      "provenance": [],
      "include_colab_link": true
    }
  },
  "cells": [
    {
      "cell_type": "markdown",
      "metadata": {
        "id": "view-in-github",
        "colab_type": "text"
      },
      "source": [
        "<a href=\"https://colab.research.google.com/github/Samuel-Andrews/lab3/blob/master/lab_3_functions_and_comprehensions.ipynb\" target=\"_parent\"><img src=\"https://colab.research.google.com/assets/colab-badge.svg\" alt=\"Open In Colab\"/></a>"
      ]
    },
    {
      "cell_type": "markdown",
      "metadata": {
        "id": "k0N6shyqwdmi",
        "colab_type": "text"
      },
      "source": [
        "# Lab 3 - Function and List Comprehension Exercises\n",
        "\n",
        "Please complete each exercise and submit your work on D2L.\n",
        "\n",
        "**Rules:**\n",
        "\n",
        "1. All functions should be defined with `lambda` (only test functions should use `def` statements.)\n",
        "2. Each function should be accompanied by test function that covers normal and edge cases."
      ]
    },
    {
      "cell_type": "markdown",
      "metadata": {
        "id": "DC8Guaxgwdmj",
        "colab_type": "text"
      },
      "source": [
        "### <font color='red'> Exercise 1 </font>\n",
        "\n",
        "Write a function `sum_of_squares` that computes the sum of the squares of the numbers in the input list. *Use a helper function in your solution*\n",
        "\n",
        "\n",
        "**Example** `sum_of_squares([2, 3, 4]) === 4 + 9 + 16`  **HINT:** Use a comprehension to square the values and `sum` to compute the sum."
      ]
    },
    {
      "cell_type": "code",
      "metadata": {
        "id": "sabb2kRZwdmk",
        "colab_type": "code",
        "colab": {
          "base_uri": "https://localhost:8080/",
          "height": 33
        },
        "outputId": "a51e26a8-dc78-4b47-eeb3-82cc5292395c"
      },
      "source": [
        "squaref = lambda num: num*num\n",
        "\n",
        "sum_of_squares = lambda Lnum: sum([squaref(num) for num in Lnum])\n",
        "\n",
        "sum_of_squares([2, 2, 2, 2])\n"
      ],
      "execution_count": 16,
      "outputs": [
        {
          "output_type": "execute_result",
          "data": {
            "text/plain": [
              "16"
            ]
          },
          "metadata": {
            "tags": []
          },
          "execution_count": 16
        }
      ]
    },
    {
      "cell_type": "markdown",
      "metadata": {
        "id": "ny1ZNyx_f9ia",
        "colab_type": "text"
      },
      "source": [
        "Test function"
      ]
    },
    {
      "cell_type": "code",
      "metadata": {
        "id": "fAhUBOj_gCud",
        "colab_type": "code",
        "colab": {}
      },
      "source": [
        "def test_sum_of_squares():\n",
        "  assert sum_of_squares([2,3,4]) == 29\n",
        "  assert sum_of_squares([2,2,2,2]) == 16\n",
        "  assert sum_of_squares([100,200,300]) == 140000\n",
        "  assert sum_of_squares([2]) == 4\n",
        "  assert sum_of_squares([0]) == 0\n",
        "  assert sum_of_squares([-2]) == 4\n",
        "  assert sum_of_squares([-2,0,2]) == 8\n",
        "\n",
        "test_sum_of_squares()"
      ],
      "execution_count": 19,
      "outputs": []
    },
    {
      "cell_type": "markdown",
      "metadata": {
        "id": "_Jz2cVpxwdmo",
        "colab_type": "text"
      },
      "source": [
        "### <font color=\"red\"> Exercise 2 </font>\n",
        "\n",
        "Write a function called `sum_even` that sums up all the even numbers in a list.  Include helper functions in your solution.\n",
        "\n",
        "**Example** `sum_even([1,2,3,4]) == 6`\n",
        "\n",
        "**Hint** You need a filter here."
      ]
    },
    {
      "cell_type": "code",
      "metadata": {
        "id": "Selz6XvLwdmp",
        "colab_type": "code",
        "colab": {
          "base_uri": "https://localhost:8080/",
          "height": 33
        },
        "outputId": "11641ada-624b-44fc-bd72-c9c8de3e1225"
      },
      "source": [
        "squaref = lambda num: num*num\n",
        "is_even = lambda x: x % 2 == 0\n",
        "\n",
        "sum_even = lambda Lnum: sum([squaref(num) for num in Lnum if is_even(num)])\n",
        "\n",
        "sum_even([2, 3, 4])"
      ],
      "execution_count": 10,
      "outputs": [
        {
          "output_type": "execute_result",
          "data": {
            "text/plain": [
              "20"
            ]
          },
          "metadata": {
            "tags": []
          },
          "execution_count": 10
        }
      ]
    },
    {
      "cell_type": "markdown",
      "metadata": {
        "id": "yWm8zQu7iHo7",
        "colab_type": "text"
      },
      "source": [
        "Test function"
      ]
    },
    {
      "cell_type": "code",
      "metadata": {
        "id": "LJi0R5hviLHn",
        "colab_type": "code",
        "colab": {}
      },
      "source": [
        "def test_sum_even():\n",
        "  assert sum_even([2,3,4]) == 20\n",
        "  assert sum_even([2,2,2,1]) == 12\n",
        "  assert sum_even([100,200,300, 301]) == 140000\n",
        "  assert sum_even([2]) == 4\n",
        "  assert sum_even([0]) == 0\n",
        "  assert sum_even([-2]) == 4\n",
        "  assert sum_even([-1]) == 0\n",
        "  assert sum_even([1]) == 0\n",
        "  assert sum_even([-2,0,2]) == 8\n",
        "  assert sum_even([]) == 0\n",
        "\n",
        "test_sum_even(); "
      ],
      "execution_count": 51,
      "outputs": []
    },
    {
      "cell_type": "markdown",
      "metadata": {
        "id": "yVp86EyGwdms",
        "colab_type": "text"
      },
      "source": [
        "### <font color=\"red\"> Exercise 3 </font>\n",
        "\n",
        "Write a function called `freq` that takes a value `a` and a list `L` as arguments and returns the number of times `a` occurs in `L`.\n",
        "\n",
        "**Example** `freq(1,[1,2,1,3,4]) == 2`\n",
        "\n",
        "**Hint** Use a filter in your comprehension and the `len` function"
      ]
    },
    {
      "cell_type": "code",
      "metadata": {
        "id": "SNoa-Nt0wdmt",
        "colab_type": "code",
        "colab": {
          "base_uri": "https://localhost:8080/",
          "height": 33
        },
        "outputId": "ef864daf-d151-44ce-ffd1-3ee93666cdab"
      },
      "source": [
        "\n",
        "\n",
        "\n",
        "counter = lambda occur=1: occur #make a list that gains a value (1) eveytime something occurs\n",
        "\n",
        "freq = lambda value, Lnum : len([counter() for num in Lnum if num == value]) #return length of counter, which has counted the occurances\n",
        "\n",
        "freq(1,[1,2,1,3,4])\n"
      ],
      "execution_count": 48,
      "outputs": [
        {
          "output_type": "execute_result",
          "data": {
            "text/plain": [
              "2"
            ]
          },
          "metadata": {
            "tags": []
          },
          "execution_count": 48
        }
      ]
    },
    {
      "cell_type": "markdown",
      "metadata": {
        "id": "WZQXDm1SriOj",
        "colab_type": "text"
      },
      "source": [
        "Test function"
      ]
    },
    {
      "cell_type": "code",
      "metadata": {
        "id": "zHLJGn-KoCXo",
        "colab_type": "code",
        "colab": {}
      },
      "source": [
        "def test_freq():\n",
        "  assert freq(1,[1,2,1,3,4]) == 2\n",
        "  assert freq(2,[2,2,5,2,2]) == 4\n",
        "  assert freq(-1,[-1,1,-1,1]) == 2\n",
        "  assert freq(-1,[-1]) == 1\n",
        "  assert freq(1,[-1]) == 0\n",
        "  assert freq(0,[15,0,36,5,4]) == 1\n",
        "  assert freq(15,[]) == 0\n",
        "test_freq(); "
      ],
      "execution_count": 50,
      "outputs": []
    },
    {
      "cell_type": "markdown",
      "metadata": {
        "id": "NJ_XndzQwdmw",
        "colab_type": "text"
      },
      "source": [
        "### <font color=\"red\"> Exercise 4 </font>\n",
        "\n",
        "Write a function called `between` that takes value `a`, `b` and a list `L` as arguments and returns `True` when all of the elements of `L` that strictly between `a` and `b`.\n",
        "\n",
        "**Example** `between(0, 5,[1,2,1,3,4]) == True`\n",
        "\n",
        "**Hint** Use a boolean expresion and the `all` function."
      ]
    },
    {
      "cell_type": "code",
      "metadata": {
        "id": "wN4OdfTFwdmw",
        "colab_type": "code",
        "colab": {
          "base_uri": "https://localhost:8080/",
          "height": 33
        },
        "outputId": "9bb208ad-b02d-4fc9-c8b5-dc4b71ca8e2e"
      },
      "source": [
        "#similar procedure to last time, except now we run our comparison test and see if the counter list matches length with argument\n",
        "\n",
        "counter = lambda occur=1: occur \n",
        "\n",
        "between = lambda lower, upper, Lnum : len([counter() for num in Lnum if num > lower and num < upper ]) == len(Lnum)\n",
        "\n",
        "between(0, 5,[1,2,1,3,4])"
      ],
      "execution_count": 52,
      "outputs": [
        {
          "output_type": "execute_result",
          "data": {
            "text/plain": [
              "True"
            ]
          },
          "metadata": {
            "tags": []
          },
          "execution_count": 52
        }
      ]
    },
    {
      "cell_type": "markdown",
      "metadata": {
        "id": "GQc8FC9ysiZ6",
        "colab_type": "text"
      },
      "source": [
        "Test function"
      ]
    },
    {
      "cell_type": "code",
      "metadata": {
        "id": "SuHkJCxIskcT",
        "colab_type": "code",
        "colab": {}
      },
      "source": [
        "def test_freq():\n",
        "  assert between(0, 5,[1,2,1,3,4]) == True\n",
        "  assert between(0, 5,[1,2,1,3,4,5]) == False\n",
        "  assert between(6, 8,[7,7,7,7]) == True\n",
        "  assert between(6, 8,[6,7,7,7]) == False\n",
        "  assert between(6, 8,[7,7,7,8]) == False\n",
        "  assert between(100,1000,[101,250,102,360,999]) == True\n",
        "  assert between(0,0,[0]) == False\n",
        "  assert between(-1,1,[0]) == True\n",
        "  assert between(-1,1,[]) == True #if I don't have any numbers, I don't have any numbers between -1 and 1, so True is logically sound\n",
        "test_freq(); "
      ],
      "execution_count": 60,
      "outputs": []
    }
  ]
}